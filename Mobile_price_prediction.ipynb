{
  "nbformat": 4,
  "nbformat_minor": 0,
  "metadata": {
    "colab": {
      "name": "Mobile price prediction",
      "provenance": [],
      "mount_file_id": "1tNm2jBJXtVXtktmQQ2-PqAaJ5KijbVXE",
      "authorship_tag": "ABX9TyO2UVLRER81GynSObydykL8",
      "include_colab_link": true
    },
    "kernelspec": {
      "name": "python3",
      "display_name": "Python 3"
    },
    "language_info": {
      "name": "python"
    }
  },
  "cells": [
    {
      "cell_type": "markdown",
      "metadata": {
        "id": "view-in-github",
        "colab_type": "text"
      },
      "source": [
        "<a href=\"https://colab.research.google.com/github/Ashu10051998/Bike-sharing-demand-preiction/blob/main/Mobile_price_prediction.ipynb\" target=\"_parent\"><img src=\"https://colab.research.google.com/assets/colab-badge.svg\" alt=\"Open In Colab\"/></a>"
      ]
    },
    {
      "cell_type": "markdown",
      "metadata": {
        "id": "0PXrz2Z7A9zy"
      },
      "source": [
        "#Mobile price prediction Notebook"
      ]
    },
    {
      "cell_type": "markdown",
      "metadata": {
        "id": "fg5xFRy_FPGa"
      },
      "source": [
        "Data Description -\n",
        "\n",
        "Battery_power - Total energy a battery can store in one time measured in mAh\n",
        "\n",
        "Blue - Has bluetooth or not\n",
        "\n",
        "Clock_speed - speed at which microprocessor executes instructions\n",
        "\n",
        "Dual_sim - Has dual sim support or not\n",
        "\n",
        "Fc - Front Camera mega pixels\n",
        "\n",
        "Four_g - Has 4G or not\n",
        "\n",
        "Int_memory - Internal Memory in Gigabytes\n",
        "\n",
        "M_dep - Mobile Depth in cm\n",
        "\n",
        "Mobile_wt - Weight of mobile phone\n",
        "\n",
        "N_cores - Number of cores of processor\n",
        "\n",
        "Pc - Primary Camera mega pixels\n",
        "\n",
        "Px_height - Pixel Resolution Height\n",
        "\n",
        "Px_width - Pixel Resolution Width\n",
        "\n",
        "Ram - Random Access Memory in Mega Bytes\n",
        "\n",
        "Sc_h - Screen Height of mobile in cm\n",
        "\n",
        "Sc_w - Screen Width of mobile in cm\n",
        "\n",
        "Talk_time - longest time that a single battery charge will last when you are\n",
        "\n",
        "Three_g - Has 3G or not\n",
        "\n",
        "Touch_screen - Has touch screen or not\n",
        "\n",
        "Wifi - Has wifi or not\n",
        "\n",
        "Price_range - This is the target variable with value of 0(low cost), 1(medium cost),\n",
        "\n",
        "2(high cost) and 3(very high cost)."
      ]
    },
    {
      "cell_type": "code",
      "metadata": {
        "id": "nWCeiJA6ApTd"
      },
      "source": [
        "import pandas as pd\n",
        "import numpy as np\n",
        "import matplotlib.pyplot as plt\n",
        "import matplotlib.cm as cm\n",
        "import seaborn as sns\n",
        "import sklearn as skl\n",
        "import warnings\n",
        "warnings.filterwarnings(\"ignore\")"
      ],
      "execution_count": 1,
      "outputs": []
    },
    {
      "cell_type": "code",
      "metadata": {
        "id": "84gu4cDNHbVE"
      },
      "source": [
        "import matplotlib.pyplot as plt\n",
        "%matplotlib inline"
      ],
      "execution_count": 8,
      "outputs": []
    },
    {
      "cell_type": "code",
      "metadata": {
        "id": "2HahHpAcAyik"
      },
      "source": [
        ""
      ],
      "execution_count": null,
      "outputs": []
    },
    {
      "cell_type": "code",
      "metadata": {
        "id": "1IAUkcjrAyfL"
      },
      "source": [
        "df=pd.read_csv('/content/drive/MyDrive/Data/data_mobile_price_range.csv')"
      ],
      "execution_count": 2,
      "outputs": []
    },
    {
      "cell_type": "code",
      "metadata": {
        "colab": {
          "base_uri": "https://localhost:8080/",
          "height": 377
        },
        "id": "okr9LkKvAyXV",
        "outputId": "bb8eb838-724a-478b-ac28-46b414039672"
      },
      "source": [
        "df.head(10)"
      ],
      "execution_count": 3,
      "outputs": [
        {
          "output_type": "execute_result",
          "data": {
            "text/html": [
              "<div>\n",
              "<style scoped>\n",
              "    .dataframe tbody tr th:only-of-type {\n",
              "        vertical-align: middle;\n",
              "    }\n",
              "\n",
              "    .dataframe tbody tr th {\n",
              "        vertical-align: top;\n",
              "    }\n",
              "\n",
              "    .dataframe thead th {\n",
              "        text-align: right;\n",
              "    }\n",
              "</style>\n",
              "<table border=\"1\" class=\"dataframe\">\n",
              "  <thead>\n",
              "    <tr style=\"text-align: right;\">\n",
              "      <th></th>\n",
              "      <th>battery_power</th>\n",
              "      <th>blue</th>\n",
              "      <th>clock_speed</th>\n",
              "      <th>dual_sim</th>\n",
              "      <th>fc</th>\n",
              "      <th>four_g</th>\n",
              "      <th>int_memory</th>\n",
              "      <th>m_dep</th>\n",
              "      <th>mobile_wt</th>\n",
              "      <th>n_cores</th>\n",
              "      <th>pc</th>\n",
              "      <th>px_height</th>\n",
              "      <th>px_width</th>\n",
              "      <th>ram</th>\n",
              "      <th>sc_h</th>\n",
              "      <th>sc_w</th>\n",
              "      <th>talk_time</th>\n",
              "      <th>three_g</th>\n",
              "      <th>touch_screen</th>\n",
              "      <th>wifi</th>\n",
              "      <th>price_range</th>\n",
              "    </tr>\n",
              "  </thead>\n",
              "  <tbody>\n",
              "    <tr>\n",
              "      <th>0</th>\n",
              "      <td>842</td>\n",
              "      <td>0</td>\n",
              "      <td>2.2</td>\n",
              "      <td>0</td>\n",
              "      <td>1</td>\n",
              "      <td>0</td>\n",
              "      <td>7</td>\n",
              "      <td>0.6</td>\n",
              "      <td>188</td>\n",
              "      <td>2</td>\n",
              "      <td>2</td>\n",
              "      <td>20</td>\n",
              "      <td>756</td>\n",
              "      <td>2549</td>\n",
              "      <td>9</td>\n",
              "      <td>7</td>\n",
              "      <td>19</td>\n",
              "      <td>0</td>\n",
              "      <td>0</td>\n",
              "      <td>1</td>\n",
              "      <td>1</td>\n",
              "    </tr>\n",
              "    <tr>\n",
              "      <th>1</th>\n",
              "      <td>1021</td>\n",
              "      <td>1</td>\n",
              "      <td>0.5</td>\n",
              "      <td>1</td>\n",
              "      <td>0</td>\n",
              "      <td>1</td>\n",
              "      <td>53</td>\n",
              "      <td>0.7</td>\n",
              "      <td>136</td>\n",
              "      <td>3</td>\n",
              "      <td>6</td>\n",
              "      <td>905</td>\n",
              "      <td>1988</td>\n",
              "      <td>2631</td>\n",
              "      <td>17</td>\n",
              "      <td>3</td>\n",
              "      <td>7</td>\n",
              "      <td>1</td>\n",
              "      <td>1</td>\n",
              "      <td>0</td>\n",
              "      <td>2</td>\n",
              "    </tr>\n",
              "    <tr>\n",
              "      <th>2</th>\n",
              "      <td>563</td>\n",
              "      <td>1</td>\n",
              "      <td>0.5</td>\n",
              "      <td>1</td>\n",
              "      <td>2</td>\n",
              "      <td>1</td>\n",
              "      <td>41</td>\n",
              "      <td>0.9</td>\n",
              "      <td>145</td>\n",
              "      <td>5</td>\n",
              "      <td>6</td>\n",
              "      <td>1263</td>\n",
              "      <td>1716</td>\n",
              "      <td>2603</td>\n",
              "      <td>11</td>\n",
              "      <td>2</td>\n",
              "      <td>9</td>\n",
              "      <td>1</td>\n",
              "      <td>1</td>\n",
              "      <td>0</td>\n",
              "      <td>2</td>\n",
              "    </tr>\n",
              "    <tr>\n",
              "      <th>3</th>\n",
              "      <td>615</td>\n",
              "      <td>1</td>\n",
              "      <td>2.5</td>\n",
              "      <td>0</td>\n",
              "      <td>0</td>\n",
              "      <td>0</td>\n",
              "      <td>10</td>\n",
              "      <td>0.8</td>\n",
              "      <td>131</td>\n",
              "      <td>6</td>\n",
              "      <td>9</td>\n",
              "      <td>1216</td>\n",
              "      <td>1786</td>\n",
              "      <td>2769</td>\n",
              "      <td>16</td>\n",
              "      <td>8</td>\n",
              "      <td>11</td>\n",
              "      <td>1</td>\n",
              "      <td>0</td>\n",
              "      <td>0</td>\n",
              "      <td>2</td>\n",
              "    </tr>\n",
              "    <tr>\n",
              "      <th>4</th>\n",
              "      <td>1821</td>\n",
              "      <td>1</td>\n",
              "      <td>1.2</td>\n",
              "      <td>0</td>\n",
              "      <td>13</td>\n",
              "      <td>1</td>\n",
              "      <td>44</td>\n",
              "      <td>0.6</td>\n",
              "      <td>141</td>\n",
              "      <td>2</td>\n",
              "      <td>14</td>\n",
              "      <td>1208</td>\n",
              "      <td>1212</td>\n",
              "      <td>1411</td>\n",
              "      <td>8</td>\n",
              "      <td>2</td>\n",
              "      <td>15</td>\n",
              "      <td>1</td>\n",
              "      <td>1</td>\n",
              "      <td>0</td>\n",
              "      <td>1</td>\n",
              "    </tr>\n",
              "    <tr>\n",
              "      <th>5</th>\n",
              "      <td>1859</td>\n",
              "      <td>0</td>\n",
              "      <td>0.5</td>\n",
              "      <td>1</td>\n",
              "      <td>3</td>\n",
              "      <td>0</td>\n",
              "      <td>22</td>\n",
              "      <td>0.7</td>\n",
              "      <td>164</td>\n",
              "      <td>1</td>\n",
              "      <td>7</td>\n",
              "      <td>1004</td>\n",
              "      <td>1654</td>\n",
              "      <td>1067</td>\n",
              "      <td>17</td>\n",
              "      <td>1</td>\n",
              "      <td>10</td>\n",
              "      <td>1</td>\n",
              "      <td>0</td>\n",
              "      <td>0</td>\n",
              "      <td>1</td>\n",
              "    </tr>\n",
              "    <tr>\n",
              "      <th>6</th>\n",
              "      <td>1821</td>\n",
              "      <td>0</td>\n",
              "      <td>1.7</td>\n",
              "      <td>0</td>\n",
              "      <td>4</td>\n",
              "      <td>1</td>\n",
              "      <td>10</td>\n",
              "      <td>0.8</td>\n",
              "      <td>139</td>\n",
              "      <td>8</td>\n",
              "      <td>10</td>\n",
              "      <td>381</td>\n",
              "      <td>1018</td>\n",
              "      <td>3220</td>\n",
              "      <td>13</td>\n",
              "      <td>8</td>\n",
              "      <td>18</td>\n",
              "      <td>1</td>\n",
              "      <td>0</td>\n",
              "      <td>1</td>\n",
              "      <td>3</td>\n",
              "    </tr>\n",
              "    <tr>\n",
              "      <th>7</th>\n",
              "      <td>1954</td>\n",
              "      <td>0</td>\n",
              "      <td>0.5</td>\n",
              "      <td>1</td>\n",
              "      <td>0</td>\n",
              "      <td>0</td>\n",
              "      <td>24</td>\n",
              "      <td>0.8</td>\n",
              "      <td>187</td>\n",
              "      <td>4</td>\n",
              "      <td>0</td>\n",
              "      <td>512</td>\n",
              "      <td>1149</td>\n",
              "      <td>700</td>\n",
              "      <td>16</td>\n",
              "      <td>3</td>\n",
              "      <td>5</td>\n",
              "      <td>1</td>\n",
              "      <td>1</td>\n",
              "      <td>1</td>\n",
              "      <td>0</td>\n",
              "    </tr>\n",
              "    <tr>\n",
              "      <th>8</th>\n",
              "      <td>1445</td>\n",
              "      <td>1</td>\n",
              "      <td>0.5</td>\n",
              "      <td>0</td>\n",
              "      <td>0</td>\n",
              "      <td>0</td>\n",
              "      <td>53</td>\n",
              "      <td>0.7</td>\n",
              "      <td>174</td>\n",
              "      <td>7</td>\n",
              "      <td>14</td>\n",
              "      <td>386</td>\n",
              "      <td>836</td>\n",
              "      <td>1099</td>\n",
              "      <td>17</td>\n",
              "      <td>1</td>\n",
              "      <td>20</td>\n",
              "      <td>1</td>\n",
              "      <td>0</td>\n",
              "      <td>0</td>\n",
              "      <td>0</td>\n",
              "    </tr>\n",
              "    <tr>\n",
              "      <th>9</th>\n",
              "      <td>509</td>\n",
              "      <td>1</td>\n",
              "      <td>0.6</td>\n",
              "      <td>1</td>\n",
              "      <td>2</td>\n",
              "      <td>1</td>\n",
              "      <td>9</td>\n",
              "      <td>0.1</td>\n",
              "      <td>93</td>\n",
              "      <td>5</td>\n",
              "      <td>15</td>\n",
              "      <td>1137</td>\n",
              "      <td>1224</td>\n",
              "      <td>513</td>\n",
              "      <td>19</td>\n",
              "      <td>10</td>\n",
              "      <td>12</td>\n",
              "      <td>1</td>\n",
              "      <td>0</td>\n",
              "      <td>0</td>\n",
              "      <td>0</td>\n",
              "    </tr>\n",
              "  </tbody>\n",
              "</table>\n",
              "</div>"
            ],
            "text/plain": [
              "   battery_power  blue  clock_speed  ...  touch_screen  wifi  price_range\n",
              "0            842     0          2.2  ...             0     1            1\n",
              "1           1021     1          0.5  ...             1     0            2\n",
              "2            563     1          0.5  ...             1     0            2\n",
              "3            615     1          2.5  ...             0     0            2\n",
              "4           1821     1          1.2  ...             1     0            1\n",
              "5           1859     0          0.5  ...             0     0            1\n",
              "6           1821     0          1.7  ...             0     1            3\n",
              "7           1954     0          0.5  ...             1     1            0\n",
              "8           1445     1          0.5  ...             0     0            0\n",
              "9            509     1          0.6  ...             0     0            0\n",
              "\n",
              "[10 rows x 21 columns]"
            ]
          },
          "metadata": {
            "tags": []
          },
          "execution_count": 3
        }
      ]
    },
    {
      "cell_type": "code",
      "metadata": {
        "colab": {
          "base_uri": "https://localhost:8080/"
        },
        "id": "F3rR5pn2EqiK",
        "outputId": "51837bde-e5ee-473f-fdbb-e5a3df55a5c4"
      },
      "source": [
        "df.shape"
      ],
      "execution_count": 6,
      "outputs": [
        {
          "output_type": "execute_result",
          "data": {
            "text/plain": [
              "(2000, 21)"
            ]
          },
          "metadata": {
            "tags": []
          },
          "execution_count": 6
        }
      ]
    },
    {
      "cell_type": "code",
      "metadata": {
        "colab": {
          "base_uri": "https://localhost:8080/"
        },
        "id": "jgsg9mYcAyT8",
        "outputId": "9d78a918-27a5-47c7-9119-333ab60719e0"
      },
      "source": [
        "df.info()"
      ],
      "execution_count": 4,
      "outputs": [
        {
          "output_type": "stream",
          "text": [
            "<class 'pandas.core.frame.DataFrame'>\n",
            "RangeIndex: 2000 entries, 0 to 1999\n",
            "Data columns (total 21 columns):\n",
            " #   Column         Non-Null Count  Dtype  \n",
            "---  ------         --------------  -----  \n",
            " 0   battery_power  2000 non-null   int64  \n",
            " 1   blue           2000 non-null   int64  \n",
            " 2   clock_speed    2000 non-null   float64\n",
            " 3   dual_sim       2000 non-null   int64  \n",
            " 4   fc             2000 non-null   int64  \n",
            " 5   four_g         2000 non-null   int64  \n",
            " 6   int_memory     2000 non-null   int64  \n",
            " 7   m_dep          2000 non-null   float64\n",
            " 8   mobile_wt      2000 non-null   int64  \n",
            " 9   n_cores        2000 non-null   int64  \n",
            " 10  pc             2000 non-null   int64  \n",
            " 11  px_height      2000 non-null   int64  \n",
            " 12  px_width       2000 non-null   int64  \n",
            " 13  ram            2000 non-null   int64  \n",
            " 14  sc_h           2000 non-null   int64  \n",
            " 15  sc_w           2000 non-null   int64  \n",
            " 16  talk_time      2000 non-null   int64  \n",
            " 17  three_g        2000 non-null   int64  \n",
            " 18  touch_screen   2000 non-null   int64  \n",
            " 19  wifi           2000 non-null   int64  \n",
            " 20  price_range    2000 non-null   int64  \n",
            "dtypes: float64(2), int64(19)\n",
            "memory usage: 328.2 KB\n"
          ],
          "name": "stdout"
        }
      ]
    },
    {
      "cell_type": "code",
      "metadata": {
        "colab": {
          "base_uri": "https://localhost:8080/"
        },
        "id": "2mPWva-8AyQQ",
        "outputId": "833a4b70-944d-4bd2-8c07-c233a3cd5e20"
      },
      "source": [
        "df.isnull().sum()"
      ],
      "execution_count": 5,
      "outputs": [
        {
          "output_type": "execute_result",
          "data": {
            "text/plain": [
              "battery_power    0\n",
              "blue             0\n",
              "clock_speed      0\n",
              "dual_sim         0\n",
              "fc               0\n",
              "four_g           0\n",
              "int_memory       0\n",
              "m_dep            0\n",
              "mobile_wt        0\n",
              "n_cores          0\n",
              "pc               0\n",
              "px_height        0\n",
              "px_width         0\n",
              "ram              0\n",
              "sc_h             0\n",
              "sc_w             0\n",
              "talk_time        0\n",
              "three_g          0\n",
              "touch_screen     0\n",
              "wifi             0\n",
              "price_range      0\n",
              "dtype: int64"
            ]
          },
          "metadata": {
            "tags": []
          },
          "execution_count": 5
        }
      ]
    },
    {
      "cell_type": "code",
      "metadata": {
        "id": "tzBN2ZmkGScO"
      },
      "source": [
        ""
      ],
      "execution_count": null,
      "outputs": []
    },
    {
      "cell_type": "markdown",
      "metadata": {
        "id": "iUyoxVi3EmGt"
      },
      "source": [
        "#we have no null values."
      ]
    },
    {
      "cell_type": "code",
      "metadata": {
        "colab": {
          "base_uri": "https://localhost:8080/",
          "height": 315
        },
        "id": "rQd3uKyUAyNg",
        "outputId": "6ad1e1a2-95e1-4577-a7f0-af22b2615c18"
      },
      "source": [
        "df.describe()"
      ],
      "execution_count": 7,
      "outputs": [
        {
          "output_type": "execute_result",
          "data": {
            "text/html": [
              "<div>\n",
              "<style scoped>\n",
              "    .dataframe tbody tr th:only-of-type {\n",
              "        vertical-align: middle;\n",
              "    }\n",
              "\n",
              "    .dataframe tbody tr th {\n",
              "        vertical-align: top;\n",
              "    }\n",
              "\n",
              "    .dataframe thead th {\n",
              "        text-align: right;\n",
              "    }\n",
              "</style>\n",
              "<table border=\"1\" class=\"dataframe\">\n",
              "  <thead>\n",
              "    <tr style=\"text-align: right;\">\n",
              "      <th></th>\n",
              "      <th>battery_power</th>\n",
              "      <th>blue</th>\n",
              "      <th>clock_speed</th>\n",
              "      <th>dual_sim</th>\n",
              "      <th>fc</th>\n",
              "      <th>four_g</th>\n",
              "      <th>int_memory</th>\n",
              "      <th>m_dep</th>\n",
              "      <th>mobile_wt</th>\n",
              "      <th>n_cores</th>\n",
              "      <th>pc</th>\n",
              "      <th>px_height</th>\n",
              "      <th>px_width</th>\n",
              "      <th>ram</th>\n",
              "      <th>sc_h</th>\n",
              "      <th>sc_w</th>\n",
              "      <th>talk_time</th>\n",
              "      <th>three_g</th>\n",
              "      <th>touch_screen</th>\n",
              "      <th>wifi</th>\n",
              "      <th>price_range</th>\n",
              "    </tr>\n",
              "  </thead>\n",
              "  <tbody>\n",
              "    <tr>\n",
              "      <th>count</th>\n",
              "      <td>2000.000000</td>\n",
              "      <td>2000.0000</td>\n",
              "      <td>2000.000000</td>\n",
              "      <td>2000.000000</td>\n",
              "      <td>2000.000000</td>\n",
              "      <td>2000.000000</td>\n",
              "      <td>2000.000000</td>\n",
              "      <td>2000.000000</td>\n",
              "      <td>2000.000000</td>\n",
              "      <td>2000.000000</td>\n",
              "      <td>2000.000000</td>\n",
              "      <td>2000.000000</td>\n",
              "      <td>2000.000000</td>\n",
              "      <td>2000.000000</td>\n",
              "      <td>2000.000000</td>\n",
              "      <td>2000.000000</td>\n",
              "      <td>2000.000000</td>\n",
              "      <td>2000.000000</td>\n",
              "      <td>2000.000000</td>\n",
              "      <td>2000.000000</td>\n",
              "      <td>2000.000000</td>\n",
              "    </tr>\n",
              "    <tr>\n",
              "      <th>mean</th>\n",
              "      <td>1238.518500</td>\n",
              "      <td>0.4950</td>\n",
              "      <td>1.522250</td>\n",
              "      <td>0.509500</td>\n",
              "      <td>4.309500</td>\n",
              "      <td>0.521500</td>\n",
              "      <td>32.046500</td>\n",
              "      <td>0.501750</td>\n",
              "      <td>140.249000</td>\n",
              "      <td>4.520500</td>\n",
              "      <td>9.916500</td>\n",
              "      <td>645.108000</td>\n",
              "      <td>1251.515500</td>\n",
              "      <td>2124.213000</td>\n",
              "      <td>12.306500</td>\n",
              "      <td>5.767000</td>\n",
              "      <td>11.011000</td>\n",
              "      <td>0.761500</td>\n",
              "      <td>0.503000</td>\n",
              "      <td>0.507000</td>\n",
              "      <td>1.500000</td>\n",
              "    </tr>\n",
              "    <tr>\n",
              "      <th>std</th>\n",
              "      <td>439.418206</td>\n",
              "      <td>0.5001</td>\n",
              "      <td>0.816004</td>\n",
              "      <td>0.500035</td>\n",
              "      <td>4.341444</td>\n",
              "      <td>0.499662</td>\n",
              "      <td>18.145715</td>\n",
              "      <td>0.288416</td>\n",
              "      <td>35.399655</td>\n",
              "      <td>2.287837</td>\n",
              "      <td>6.064315</td>\n",
              "      <td>443.780811</td>\n",
              "      <td>432.199447</td>\n",
              "      <td>1084.732044</td>\n",
              "      <td>4.213245</td>\n",
              "      <td>4.356398</td>\n",
              "      <td>5.463955</td>\n",
              "      <td>0.426273</td>\n",
              "      <td>0.500116</td>\n",
              "      <td>0.500076</td>\n",
              "      <td>1.118314</td>\n",
              "    </tr>\n",
              "    <tr>\n",
              "      <th>min</th>\n",
              "      <td>501.000000</td>\n",
              "      <td>0.0000</td>\n",
              "      <td>0.500000</td>\n",
              "      <td>0.000000</td>\n",
              "      <td>0.000000</td>\n",
              "      <td>0.000000</td>\n",
              "      <td>2.000000</td>\n",
              "      <td>0.100000</td>\n",
              "      <td>80.000000</td>\n",
              "      <td>1.000000</td>\n",
              "      <td>0.000000</td>\n",
              "      <td>0.000000</td>\n",
              "      <td>500.000000</td>\n",
              "      <td>256.000000</td>\n",
              "      <td>5.000000</td>\n",
              "      <td>0.000000</td>\n",
              "      <td>2.000000</td>\n",
              "      <td>0.000000</td>\n",
              "      <td>0.000000</td>\n",
              "      <td>0.000000</td>\n",
              "      <td>0.000000</td>\n",
              "    </tr>\n",
              "    <tr>\n",
              "      <th>25%</th>\n",
              "      <td>851.750000</td>\n",
              "      <td>0.0000</td>\n",
              "      <td>0.700000</td>\n",
              "      <td>0.000000</td>\n",
              "      <td>1.000000</td>\n",
              "      <td>0.000000</td>\n",
              "      <td>16.000000</td>\n",
              "      <td>0.200000</td>\n",
              "      <td>109.000000</td>\n",
              "      <td>3.000000</td>\n",
              "      <td>5.000000</td>\n",
              "      <td>282.750000</td>\n",
              "      <td>874.750000</td>\n",
              "      <td>1207.500000</td>\n",
              "      <td>9.000000</td>\n",
              "      <td>2.000000</td>\n",
              "      <td>6.000000</td>\n",
              "      <td>1.000000</td>\n",
              "      <td>0.000000</td>\n",
              "      <td>0.000000</td>\n",
              "      <td>0.750000</td>\n",
              "    </tr>\n",
              "    <tr>\n",
              "      <th>50%</th>\n",
              "      <td>1226.000000</td>\n",
              "      <td>0.0000</td>\n",
              "      <td>1.500000</td>\n",
              "      <td>1.000000</td>\n",
              "      <td>3.000000</td>\n",
              "      <td>1.000000</td>\n",
              "      <td>32.000000</td>\n",
              "      <td>0.500000</td>\n",
              "      <td>141.000000</td>\n",
              "      <td>4.000000</td>\n",
              "      <td>10.000000</td>\n",
              "      <td>564.000000</td>\n",
              "      <td>1247.000000</td>\n",
              "      <td>2146.500000</td>\n",
              "      <td>12.000000</td>\n",
              "      <td>5.000000</td>\n",
              "      <td>11.000000</td>\n",
              "      <td>1.000000</td>\n",
              "      <td>1.000000</td>\n",
              "      <td>1.000000</td>\n",
              "      <td>1.500000</td>\n",
              "    </tr>\n",
              "    <tr>\n",
              "      <th>75%</th>\n",
              "      <td>1615.250000</td>\n",
              "      <td>1.0000</td>\n",
              "      <td>2.200000</td>\n",
              "      <td>1.000000</td>\n",
              "      <td>7.000000</td>\n",
              "      <td>1.000000</td>\n",
              "      <td>48.000000</td>\n",
              "      <td>0.800000</td>\n",
              "      <td>170.000000</td>\n",
              "      <td>7.000000</td>\n",
              "      <td>15.000000</td>\n",
              "      <td>947.250000</td>\n",
              "      <td>1633.000000</td>\n",
              "      <td>3064.500000</td>\n",
              "      <td>16.000000</td>\n",
              "      <td>9.000000</td>\n",
              "      <td>16.000000</td>\n",
              "      <td>1.000000</td>\n",
              "      <td>1.000000</td>\n",
              "      <td>1.000000</td>\n",
              "      <td>2.250000</td>\n",
              "    </tr>\n",
              "    <tr>\n",
              "      <th>max</th>\n",
              "      <td>1998.000000</td>\n",
              "      <td>1.0000</td>\n",
              "      <td>3.000000</td>\n",
              "      <td>1.000000</td>\n",
              "      <td>19.000000</td>\n",
              "      <td>1.000000</td>\n",
              "      <td>64.000000</td>\n",
              "      <td>1.000000</td>\n",
              "      <td>200.000000</td>\n",
              "      <td>8.000000</td>\n",
              "      <td>20.000000</td>\n",
              "      <td>1960.000000</td>\n",
              "      <td>1998.000000</td>\n",
              "      <td>3998.000000</td>\n",
              "      <td>19.000000</td>\n",
              "      <td>18.000000</td>\n",
              "      <td>20.000000</td>\n",
              "      <td>1.000000</td>\n",
              "      <td>1.000000</td>\n",
              "      <td>1.000000</td>\n",
              "      <td>3.000000</td>\n",
              "    </tr>\n",
              "  </tbody>\n",
              "</table>\n",
              "</div>"
            ],
            "text/plain": [
              "       battery_power       blue  ...         wifi  price_range\n",
              "count    2000.000000  2000.0000  ...  2000.000000  2000.000000\n",
              "mean     1238.518500     0.4950  ...     0.507000     1.500000\n",
              "std       439.418206     0.5001  ...     0.500076     1.118314\n",
              "min       501.000000     0.0000  ...     0.000000     0.000000\n",
              "25%       851.750000     0.0000  ...     0.000000     0.750000\n",
              "50%      1226.000000     0.0000  ...     1.000000     1.500000\n",
              "75%      1615.250000     1.0000  ...     1.000000     2.250000\n",
              "max      1998.000000     1.0000  ...     1.000000     3.000000\n",
              "\n",
              "[8 rows x 21 columns]"
            ]
          },
          "metadata": {
            "tags": []
          },
          "execution_count": 7
        }
      ]
    },
    {
      "cell_type": "markdown",
      "metadata": {
        "id": "0JbIKCxFHzMD"
      },
      "source": [
        "#We have price range as dependent variable and rest  other columns as independent variable"
      ]
    },
    {
      "cell_type": "code",
      "metadata": {
        "id": "rJtvKyWKAyKl"
      },
      "source": [
        "df['screen_area']=df['sc_h']*df['sc_w']   # combining screen width and screen height to get screen area."
      ],
      "execution_count": 9,
      "outputs": []
    },
    {
      "cell_type": "code",
      "metadata": {
        "colab": {
          "base_uri": "https://localhost:8080/"
        },
        "id": "6UChBbQOAyHl",
        "outputId": "c4d2302b-2089-4ee1-cdf1-fe4034b7474b"
      },
      "source": [
        "df.shape"
      ],
      "execution_count": 10,
      "outputs": [
        {
          "output_type": "execute_result",
          "data": {
            "text/plain": [
              "(2000, 22)"
            ]
          },
          "metadata": {
            "tags": []
          },
          "execution_count": 10
        }
      ]
    },
    {
      "cell_type": "code",
      "metadata": {
        "colab": {
          "base_uri": "https://localhost:8080/",
          "height": 377
        },
        "id": "7Mc_YlOzAyEz",
        "outputId": "685b9194-2bbf-4c8b-af0e-15ee10b64039"
      },
      "source": [
        "df.head(10)"
      ],
      "execution_count": 11,
      "outputs": [
        {
          "output_type": "execute_result",
          "data": {
            "text/html": [
              "<div>\n",
              "<style scoped>\n",
              "    .dataframe tbody tr th:only-of-type {\n",
              "        vertical-align: middle;\n",
              "    }\n",
              "\n",
              "    .dataframe tbody tr th {\n",
              "        vertical-align: top;\n",
              "    }\n",
              "\n",
              "    .dataframe thead th {\n",
              "        text-align: right;\n",
              "    }\n",
              "</style>\n",
              "<table border=\"1\" class=\"dataframe\">\n",
              "  <thead>\n",
              "    <tr style=\"text-align: right;\">\n",
              "      <th></th>\n",
              "      <th>battery_power</th>\n",
              "      <th>blue</th>\n",
              "      <th>clock_speed</th>\n",
              "      <th>dual_sim</th>\n",
              "      <th>fc</th>\n",
              "      <th>four_g</th>\n",
              "      <th>int_memory</th>\n",
              "      <th>m_dep</th>\n",
              "      <th>mobile_wt</th>\n",
              "      <th>n_cores</th>\n",
              "      <th>pc</th>\n",
              "      <th>px_height</th>\n",
              "      <th>px_width</th>\n",
              "      <th>ram</th>\n",
              "      <th>sc_h</th>\n",
              "      <th>sc_w</th>\n",
              "      <th>talk_time</th>\n",
              "      <th>three_g</th>\n",
              "      <th>touch_screen</th>\n",
              "      <th>wifi</th>\n",
              "      <th>price_range</th>\n",
              "      <th>screen_area</th>\n",
              "    </tr>\n",
              "  </thead>\n",
              "  <tbody>\n",
              "    <tr>\n",
              "      <th>0</th>\n",
              "      <td>842</td>\n",
              "      <td>0</td>\n",
              "      <td>2.2</td>\n",
              "      <td>0</td>\n",
              "      <td>1</td>\n",
              "      <td>0</td>\n",
              "      <td>7</td>\n",
              "      <td>0.6</td>\n",
              "      <td>188</td>\n",
              "      <td>2</td>\n",
              "      <td>2</td>\n",
              "      <td>20</td>\n",
              "      <td>756</td>\n",
              "      <td>2549</td>\n",
              "      <td>9</td>\n",
              "      <td>7</td>\n",
              "      <td>19</td>\n",
              "      <td>0</td>\n",
              "      <td>0</td>\n",
              "      <td>1</td>\n",
              "      <td>1</td>\n",
              "      <td>63</td>\n",
              "    </tr>\n",
              "    <tr>\n",
              "      <th>1</th>\n",
              "      <td>1021</td>\n",
              "      <td>1</td>\n",
              "      <td>0.5</td>\n",
              "      <td>1</td>\n",
              "      <td>0</td>\n",
              "      <td>1</td>\n",
              "      <td>53</td>\n",
              "      <td>0.7</td>\n",
              "      <td>136</td>\n",
              "      <td>3</td>\n",
              "      <td>6</td>\n",
              "      <td>905</td>\n",
              "      <td>1988</td>\n",
              "      <td>2631</td>\n",
              "      <td>17</td>\n",
              "      <td>3</td>\n",
              "      <td>7</td>\n",
              "      <td>1</td>\n",
              "      <td>1</td>\n",
              "      <td>0</td>\n",
              "      <td>2</td>\n",
              "      <td>51</td>\n",
              "    </tr>\n",
              "    <tr>\n",
              "      <th>2</th>\n",
              "      <td>563</td>\n",
              "      <td>1</td>\n",
              "      <td>0.5</td>\n",
              "      <td>1</td>\n",
              "      <td>2</td>\n",
              "      <td>1</td>\n",
              "      <td>41</td>\n",
              "      <td>0.9</td>\n",
              "      <td>145</td>\n",
              "      <td>5</td>\n",
              "      <td>6</td>\n",
              "      <td>1263</td>\n",
              "      <td>1716</td>\n",
              "      <td>2603</td>\n",
              "      <td>11</td>\n",
              "      <td>2</td>\n",
              "      <td>9</td>\n",
              "      <td>1</td>\n",
              "      <td>1</td>\n",
              "      <td>0</td>\n",
              "      <td>2</td>\n",
              "      <td>22</td>\n",
              "    </tr>\n",
              "    <tr>\n",
              "      <th>3</th>\n",
              "      <td>615</td>\n",
              "      <td>1</td>\n",
              "      <td>2.5</td>\n",
              "      <td>0</td>\n",
              "      <td>0</td>\n",
              "      <td>0</td>\n",
              "      <td>10</td>\n",
              "      <td>0.8</td>\n",
              "      <td>131</td>\n",
              "      <td>6</td>\n",
              "      <td>9</td>\n",
              "      <td>1216</td>\n",
              "      <td>1786</td>\n",
              "      <td>2769</td>\n",
              "      <td>16</td>\n",
              "      <td>8</td>\n",
              "      <td>11</td>\n",
              "      <td>1</td>\n",
              "      <td>0</td>\n",
              "      <td>0</td>\n",
              "      <td>2</td>\n",
              "      <td>128</td>\n",
              "    </tr>\n",
              "    <tr>\n",
              "      <th>4</th>\n",
              "      <td>1821</td>\n",
              "      <td>1</td>\n",
              "      <td>1.2</td>\n",
              "      <td>0</td>\n",
              "      <td>13</td>\n",
              "      <td>1</td>\n",
              "      <td>44</td>\n",
              "      <td>0.6</td>\n",
              "      <td>141</td>\n",
              "      <td>2</td>\n",
              "      <td>14</td>\n",
              "      <td>1208</td>\n",
              "      <td>1212</td>\n",
              "      <td>1411</td>\n",
              "      <td>8</td>\n",
              "      <td>2</td>\n",
              "      <td>15</td>\n",
              "      <td>1</td>\n",
              "      <td>1</td>\n",
              "      <td>0</td>\n",
              "      <td>1</td>\n",
              "      <td>16</td>\n",
              "    </tr>\n",
              "    <tr>\n",
              "      <th>5</th>\n",
              "      <td>1859</td>\n",
              "      <td>0</td>\n",
              "      <td>0.5</td>\n",
              "      <td>1</td>\n",
              "      <td>3</td>\n",
              "      <td>0</td>\n",
              "      <td>22</td>\n",
              "      <td>0.7</td>\n",
              "      <td>164</td>\n",
              "      <td>1</td>\n",
              "      <td>7</td>\n",
              "      <td>1004</td>\n",
              "      <td>1654</td>\n",
              "      <td>1067</td>\n",
              "      <td>17</td>\n",
              "      <td>1</td>\n",
              "      <td>10</td>\n",
              "      <td>1</td>\n",
              "      <td>0</td>\n",
              "      <td>0</td>\n",
              "      <td>1</td>\n",
              "      <td>17</td>\n",
              "    </tr>\n",
              "    <tr>\n",
              "      <th>6</th>\n",
              "      <td>1821</td>\n",
              "      <td>0</td>\n",
              "      <td>1.7</td>\n",
              "      <td>0</td>\n",
              "      <td>4</td>\n",
              "      <td>1</td>\n",
              "      <td>10</td>\n",
              "      <td>0.8</td>\n",
              "      <td>139</td>\n",
              "      <td>8</td>\n",
              "      <td>10</td>\n",
              "      <td>381</td>\n",
              "      <td>1018</td>\n",
              "      <td>3220</td>\n",
              "      <td>13</td>\n",
              "      <td>8</td>\n",
              "      <td>18</td>\n",
              "      <td>1</td>\n",
              "      <td>0</td>\n",
              "      <td>1</td>\n",
              "      <td>3</td>\n",
              "      <td>104</td>\n",
              "    </tr>\n",
              "    <tr>\n",
              "      <th>7</th>\n",
              "      <td>1954</td>\n",
              "      <td>0</td>\n",
              "      <td>0.5</td>\n",
              "      <td>1</td>\n",
              "      <td>0</td>\n",
              "      <td>0</td>\n",
              "      <td>24</td>\n",
              "      <td>0.8</td>\n",
              "      <td>187</td>\n",
              "      <td>4</td>\n",
              "      <td>0</td>\n",
              "      <td>512</td>\n",
              "      <td>1149</td>\n",
              "      <td>700</td>\n",
              "      <td>16</td>\n",
              "      <td>3</td>\n",
              "      <td>5</td>\n",
              "      <td>1</td>\n",
              "      <td>1</td>\n",
              "      <td>1</td>\n",
              "      <td>0</td>\n",
              "      <td>48</td>\n",
              "    </tr>\n",
              "    <tr>\n",
              "      <th>8</th>\n",
              "      <td>1445</td>\n",
              "      <td>1</td>\n",
              "      <td>0.5</td>\n",
              "      <td>0</td>\n",
              "      <td>0</td>\n",
              "      <td>0</td>\n",
              "      <td>53</td>\n",
              "      <td>0.7</td>\n",
              "      <td>174</td>\n",
              "      <td>7</td>\n",
              "      <td>14</td>\n",
              "      <td>386</td>\n",
              "      <td>836</td>\n",
              "      <td>1099</td>\n",
              "      <td>17</td>\n",
              "      <td>1</td>\n",
              "      <td>20</td>\n",
              "      <td>1</td>\n",
              "      <td>0</td>\n",
              "      <td>0</td>\n",
              "      <td>0</td>\n",
              "      <td>17</td>\n",
              "    </tr>\n",
              "    <tr>\n",
              "      <th>9</th>\n",
              "      <td>509</td>\n",
              "      <td>1</td>\n",
              "      <td>0.6</td>\n",
              "      <td>1</td>\n",
              "      <td>2</td>\n",
              "      <td>1</td>\n",
              "      <td>9</td>\n",
              "      <td>0.1</td>\n",
              "      <td>93</td>\n",
              "      <td>5</td>\n",
              "      <td>15</td>\n",
              "      <td>1137</td>\n",
              "      <td>1224</td>\n",
              "      <td>513</td>\n",
              "      <td>19</td>\n",
              "      <td>10</td>\n",
              "      <td>12</td>\n",
              "      <td>1</td>\n",
              "      <td>0</td>\n",
              "      <td>0</td>\n",
              "      <td>0</td>\n",
              "      <td>190</td>\n",
              "    </tr>\n",
              "  </tbody>\n",
              "</table>\n",
              "</div>"
            ],
            "text/plain": [
              "   battery_power  blue  clock_speed  ...  wifi  price_range  screen_area\n",
              "0            842     0          2.2  ...     1            1           63\n",
              "1           1021     1          0.5  ...     0            2           51\n",
              "2            563     1          0.5  ...     0            2           22\n",
              "3            615     1          2.5  ...     0            2          128\n",
              "4           1821     1          1.2  ...     0            1           16\n",
              "5           1859     0          0.5  ...     0            1           17\n",
              "6           1821     0          1.7  ...     1            3          104\n",
              "7           1954     0          0.5  ...     1            0           48\n",
              "8           1445     1          0.5  ...     0            0           17\n",
              "9            509     1          0.6  ...     0            0          190\n",
              "\n",
              "[10 rows x 22 columns]"
            ]
          },
          "metadata": {
            "tags": []
          },
          "execution_count": 11
        }
      ]
    },
    {
      "cell_type": "code",
      "metadata": {
        "colab": {
          "base_uri": "https://localhost:8080/",
          "height": 279
        },
        "id": "lEn-oXNoAyBy",
        "outputId": "112bd42a-ed58-4eba-8209-37e6a55ac457"
      },
      "source": [
        "df['price_range'].value_counts().plot(kind='bar',color='pink')"
      ],
      "execution_count": 16,
      "outputs": [
        {
          "output_type": "execute_result",
          "data": {
            "text/plain": [
              "<matplotlib.axes._subplots.AxesSubplot at 0x7f43be899050>"
            ]
          },
          "metadata": {
            "tags": []
          },
          "execution_count": 16
        },
        {
          "output_type": "display_data",
          "data": {
            "image/png": "[encoded data removed]",
            "text/plain": [
              "<Figure size 432x288 with 1 Axes>"
            ]
          },
          "metadata": {
            "tags": [],
            "needs_background": "light"
          }
        }
      ]
    },
    {
      "cell_type": "code",
      "metadata": {
        "colab": {
          "base_uri": "https://localhost:8080/",
          "height": 282
        },
        "id": "PnUaM0U3Ax_I",
        "outputId": "472f965b-2d48-4f14-8560-c8550c5f4fd4"
      },
      "source": [
        "df['screen_area'].value_counts()"
      ],
      "execution_count": 22,
      "outputs": [
        {
          "output_type": "execute_result",
          "data": {
            "text/plain": [
              "<matplotlib.axes._subplots.AxesSubplot at 0x7f43be3182d0>"
            ]
          },
          "metadata": {
            "tags": []
          },
          "execution_count": 22
        },
        {
          "output_type": "display_data",
          "data": {
            "image/png": "[encoded data removed]",
            "text/plain": [
              "<Figure size 432x288 with 1 Axes>"
            ]
          },
          "metadata": {
            "tags": [],
            "needs_background": "light"
          }
        }
      ]
    },
    {
      "cell_type": "code",
      "metadata": {
        "id": "pXUggdN8Ax72"
      },
      "source": [
        ""
      ],
      "execution_count": null,
      "outputs": []
    },
    {
      "cell_type": "code",
      "metadata": {
        "id": "N3RDq40tAx45"
      },
      "source": [
        ""
      ],
      "execution_count": null,
      "outputs": []
    },
    {
      "cell_type": "code",
      "metadata": {
        "id": "3VXj_MEnAx1s"
      },
      "source": [
        ""
      ],
      "execution_count": null,
      "outputs": []
    },
    {
      "cell_type": "code",
      "metadata": {
        "id": "gY1VrJWlAxyk"
      },
      "source": [
        ""
      ],
      "execution_count": null,
      "outputs": []
    },
    {
      "cell_type": "code",
      "metadata": {
        "id": "dAzuzuIgAxvd"
      },
      "source": [
        ""
      ],
      "execution_count": null,
      "outputs": []
    },
    {
      "cell_type": "code",
      "metadata": {
        "id": "nmQ5bj7PAxf7"
      },
      "source": [
        ""
      ],
      "execution_count": null,
      "outputs": []
    }
  ]
}